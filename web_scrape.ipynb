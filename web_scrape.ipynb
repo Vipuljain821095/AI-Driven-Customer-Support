{
 "cells": [
  {
   "cell_type": "markdown",
   "metadata": {},
   "source": [
    "This a script to scrape the coursera's support page available online. It saves all the links to available webpages in a text file which is later used to answer a user's query by AI agents"
   ]
  },
  {
   "cell_type": "code",
   "execution_count": 1,
   "metadata": {},
   "outputs": [],
   "source": [
    "import time\n",
    "import re\n",
    "import itertools\n",
    "\n",
    "from selenium import webdriver\n",
    "from selenium.webdriver.chrome.service import Service\n",
    "from selenium.webdriver.chrome.options import Options\n",
    "from selenium.webdriver.common.by import By\n",
    "from selenium.webdriver.support.ui import WebDriverWait\n",
    "from selenium.webdriver.support import expected_conditions as EC\n",
    "from bs4 import BeautifulSoup"
   ]
  },
  {
   "cell_type": "code",
   "execution_count": 2,
   "metadata": {},
   "outputs": [],
   "source": [
    "def get_inPage_nav(URL, base_url):\n",
    "\n",
    "    chrome_options = Options()\n",
    "    chrome_options.add_argument(\"--headless\")\n",
    "    chrome_options.add_argument(\"--disable-gpu\")\n",
    "    \n",
    "    chrome_driver_path = '<add_your_chrome_driver_path_here>'\n",
    "    service = Service(chrome_driver_path)\n",
    "    driver = webdriver.Chrome(service=service, options=chrome_options)\n",
    "\n",
    "    driver.get(URL)\n",
    "    WebDriverWait(driver, 15).until(EC.presence_of_element_located((By.CSS_SELECTOR, 'body')))\n",
    "    time.sleep(10)    \n",
    "    page_source = driver.page_source\n",
    "    soup = BeautifulSoup(page_source, 'html.parser')\n",
    "    nav_links = soup.find_all('a', href=True)\n",
    "    driver.quit()\n",
    "    \n",
    "    pattern = r'<a\\s+[^>]*href=[\"\\']([^\"\\']*\\/s\\/article[^\"\\']*)[\"\\'][^>]*>'\n",
    "    \n",
    "    inPage_links = []\n",
    "    for link in nav_links:\n",
    "        match = re.search(pattern, str(link))\n",
    "        if match:\n",
    "            inPage_links.append(base_url + match.group(1))\n",
    "            \n",
    "    return inPage_links"
   ]
  },
  {
   "cell_type": "code",
   "execution_count": 3,
   "metadata": {},
   "outputs": [],
   "source": [
    "coursera_support_links = [\n",
    "    \"https://www.coursera.support/s/learner-help-center-account-setup?language=en_US\",\n",
    "    \"https://www.coursera.support/s/learner-help-center-payments?language=en_US\",\n",
    "    \"https://www.coursera.support/s/learner-help-center-enrollment?language=en_US\",\n",
    "    \"https://www.coursera.support/s/learner-help-center-quizzes-assignments?language=en_US\",\n",
    "    \"https://www.coursera.support/s/learner-help-center-course-certificates?language=en_US\",\n",
    "    \"https://www.coursera.support/s/learner-help-center-coursera-policies?language=en_US\",\n",
    "    \"https://www.coursera.support/s/learner-help-center-troubleshoot?language=en_US\",\n",
    "    \"https://www.coursera.support/s/learner-help-center-specializations?language=en_US\",\n",
    "    \"https://www.coursera.support/s/learner-help-center-degrees-on-coursera?language=en_US\"\n",
    "]"
   ]
  },
  {
   "cell_type": "code",
   "execution_count": 4,
   "metadata": {},
   "outputs": [],
   "source": [
    "support_links = list(itertools.chain.from_iterable([ get_inPage_nav(x,\"https://www.coursera.support\") for x in coursera_support_links]))"
   ]
  },
  {
   "cell_type": "code",
   "execution_count": 12,
   "metadata": {},
   "outputs": [],
   "source": [
    "with open('support_links.txt', 'w') as file:\n",
    "    for item in support_links:\n",
    "        file.write(str(item) +'\\n')"
   ]
  },
  {
   "cell_type": "code",
   "execution_count": 14,
   "metadata": {},
   "outputs": [
    {
     "name": "stdout",
     "output_type": "stream",
     "text": [
      "['https://www.coursera.support/s/article/209818493-Set-up-your-Coursera-account?', 'https://www.coursera.support/s/article/208279576-Change-your-Coursera-account-settings?', 'https://www.coursera.support/s/article/360059569172-Change-your-account-language?', 'https://www.coursera.support/s/article/learner-000002203-Update-your-profile-name-or-verified-name?', 'https://www.coursera.support/s/article/209818563-Delete-your-Coursera-account?', 'https://www.coursera.support/s/article/208280026-Change-email-settings-for-the-forums?', 'https://www.coursera.support/s/article/929742317-Check-and-Update-Your-Email-Communication-Preferences?', 'https://www.coursera.support/s/article/learner-000002204-Update-your-login-settings?', 'https://www.coursera.support/s/article/208279586-Reset-your-Coursera-password?', 'https://www.coursera.support/s/article/209818553-Troubleshooting-login-and-account-issues?', 'https://www.coursera.support/s/article/learner-000001888-Link-or-de-link-your-account-with-Google-Apple-or-Facebook?', 'https://www.coursera.support/s/article/115004807263-Troubleshoot-logging-in-with-single-sign-on-SSO?', 'https://www.coursera.support/s/article/209818503-Use-the-Coursera-mobile-app?', 'https://www.coursera.support/s/article/115001710426-Switch-between-learning-program-other-Coursera-courses?', 'https://www.coursera.support/s/article/4403726933773-Configure-your-Coursera-account-with-your-for-credit-program?', 'https://www.coursera.support/s/article/360000152926-Become-a-Coursera-beta-tester?', 'https://www.coursera.support/s/article/208280006-Course-Mentors?', 'https://www.coursera.support/s/article/209818963-Payments-on-Coursera?', 'https://www.coursera.support/s/article/208280146-Pay-for-a-course-or-Specialization?', 'https://www.coursera.support/s/article/209819003-Accepted-payment-methods?', 'https://www.coursera.support/s/article/208280176-Save-your-payment-information?', 'https://www.coursera.support/s/article/209819043-Request-a-refund?', 'https://www.coursera.support/s/article/216348103-Coursera-subscriptions?', 'https://www.coursera.support/s/article/360036151872-Coursera-Plus?', 'https://www.coursera.support/s/article/360036151932-Courses-content-available-on-Coursera-Plus?', 'https://www.coursera.support/s/article/115004991506-Change-your-subscription-plan?', 'https://www.coursera.support/s/article/216348123-Cancel-a-subscription?', 'https://www.coursera.support/s/article/209819033-Apply-for-Financial-Aid-or-a-Scholarship?', 'https://www.coursera.support/s/article/115003084226-Solve-problems-with-Financial-Aid-or-Scholarships?', 'https://www.coursera.support/s/article/115001278026-Free-trials-for-subscriptions?', 'https://www.coursera.support/s/article/115004991443-Cancel-a-free-trial?', 'https://www.coursera.support/s/article/learner-000001680-Grow-with-Google-Scholarships-for-Business?', 'https://www.coursera.support/s/article/learner-000001625-Google-Cloud-promotion?', 'https://www.coursera.support/s/article/360034721851-Coursera-Referral-Program-Terms-Conditions?', 'https://www.coursera.support/s/article/209818603-Enroll-in-a-course?', 'https://www.coursera.support/s/article/208280306-Enroll-in-a-Specialization?', 'https://www.coursera.support/s/article/115004995343-Enroll-in-a-single-course-in-a-Specialization?', 'https://www.coursera.support/s/article/211537086-Enroll-in-a-degree-course?', 'https://www.coursera.support/s/article/360003103012-Unenroll-from-a-Degree-course?', 'https://www.coursera.support/s/article/208279726-Find-courses-to-take?', 'https://www.coursera.support/s/article/learner-000001867-Find-courses-to-take-though-your-organization-s-learning-program?', 'https://www.coursera.support/s/article/209818613-Enrollment-options?', 'https://www.coursera.support/s/article/learner-208279926-Submit-peer-graded-assignments', 'https://www.coursera.support/s/article/learner-209818803-Write-peer-reviews?', 'https://www.coursera.support/s/article/learner-209818823-Edit-and-resubmit-a-peer-graded-assignment?', 'https://www.coursera.support/s/article/learner-208279966-Solve-problems-with-peer-graded-assignments?', 'https://www.coursera.support/s/article/learner-208279946-Getting-and-viewing-grades-for-peer-graded-assignments?', 'https://www.coursera.support/s/article/115001243743-Check-assignment-grades?', 'https://www.coursera.support/s/article/208279866-Assignment-deadlines?', 'https://www.coursera.support/s/article/360030934191-Add-course-deadlines-to-your-calendar?', 'https://www.coursera.support/s/article/learner-360059273951-View-your-current-grade?', 'https://www.coursera.support/s/article/208279869-Assignment-deadlines-for-limited-availability-courses?', 'https://www.coursera.support/s/article/209818703-Take-quizzes?', 'https://www.coursera.support/s/article/209818783-Troubleshoot-quizzes-assignments?', 'https://www.coursera.support/s/article/208279916-Math-assignments?', 'https://www.coursera.support/s/article/208279876-Honors-assignments?', 'https://www.coursera.support/s/article/learner-000001615-Completing-assignments-with-WISEflow?', 'https://www.coursera.support/s/article/learner-209818753-Complete-and-submit-programming-assignments?', 'https://www.coursera.support/s/article/learner-000002188-Using-your-Coursera-Labs-workspace?', 'https://www.coursera.support/s/article/learner-360044758731-Solve-issues-with-Coursera-Labs?', 'https://www.coursera.support/s/article/learner-212846686-Completing-assignments-with-Code-Blocks?', 'https://www.coursera.support/s/article/learner-360004181372-Solve-problems-with-Qwiklabs?', 'https://www.coursera.support/s/article/learner-000001647-ACE-credit-recommendation-FAQs?', 'https://www.coursera.support/s/article/learner-000002117-ECTS-credit-recommendation-FAQs?', 'https://www.coursera.support/s/article/208280196-Course-Certificates?', 'https://www.coursera.support/s/article/209819053-Get-a-Course-Certificate?', 'https://www.coursera.support/s/article/208280246-Share-your-Course-Certificate?', 'https://www.coursera.support/s/article/208280166-Verify-your-name?', 'https://www.coursera.support/s/article/209818953-Verify-your-ID?', 'https://www.coursera.support/s/article/360050668591-Accessibility-Statement?', 'https://www.coursera.support/s/article/209818883-Coursera-s-accessibility-policy?', 'https://www.coursera.support/s/article/208280056-Accommodations-for-learners-with-disabilities?', 'https://www.coursera.support/s/article/208280036-Coursera-Code-of-Conduct?', 'https://www.coursera.support/s/article/209818863-Coursera-Honor-Code?', 'https://www.coursera.support/s/article/learner-000001988-Using-the-Honor-Code-Dashboard?', 'https://www.coursera.support/s/article/209818923-Age-restrictions?', 'https://www.coursera.support/s/article/360001842031-General-Data-Protection-Regulation-GDPR?', 'https://www.coursera.support/s/article/360057856732-Google-Professional-Certificates-on-Coursera-Referral-Program-Terms-Conditions?', 'https://www.coursera.support/s/article/360057729391-Terms-and-conditions-for-Microsoft-Certification-exam-voucher-codes?', 'https://www.coursera.support/s/article/209818903-Third-party-tools?', 'https://www.coursera.support/s/article/208279886-Solve-problems-with-Coursera?', 'https://www.coursera.support/s/article/209818543-Recommended-browsers-and-devices?', 'https://www.coursera.support/s/article/learner-000001835-How-to-find-and-screenshot-error-messages', 'https://www.coursera.support/s/article/learner-000001653-How-to-open-the-Javascript-console?', 'https://www.coursera.support/s/article/115002012606-Clear-your-cache-cookies?', 'https://www.coursera.support/s/article/208280066-Rate-a-course-or-course-materials?', 'https://www.coursera.support/s/article/208280106-Report-a-problem-with-a-course?', 'https://www.coursera.support/s/article/209818643-Watch-video-lectures?', 'https://www.coursera.support/s/article/209818653-Change-video-settings?', 'https://www.coursera.support/s/article/208279826-Video-subtitles?', 'https://www.coursera.support/s/article/208279836-Video-translations?', 'https://www.coursera.support/s/article/208279846-Solve-problems-with-videos?', 'https://www.coursera.support/s/article/208279996-Get-help-with-course-content-in-the-discussion-forums?', 'https://www.coursera.support/s/article/209818893-Report-abuse-in-the-forums?', 'https://www.coursera.support/s/article/209818873-Groups?', 'https://www.coursera.support/s/article/208280296-Specializations?', 'https://www.coursera.support/s/article/209819113-Complete-a-Specialization?', 'https://www.coursera.support/s/article/115000487063-Upgrade-to-a-new-version-of-a-Specialization?', 'https://www.coursera.support/s/article/208280316-Capstone-Projects?', 'https://www.coursera.support/s/article/209819163-Solve-problems-with-Specializations?', 'https://www.coursera.support/s/article/360005057391-MasterTrack-courses-certificates?', 'https://www.coursera.support/s/article/211537126-Take-a-degree-course?', 'https://www.coursera.support/s/article/115004692923-Take-a-degree-program-onboarding-course?', 'https://www.coursera.support/s/article/115004712266-Degree-course-schedules-and-deadlines?', 'https://www.coursera.support/s/article/115004712346-Taking-other-courses-while-in-a-Degree-program?', 'https://www.coursera.support/s/article/115001710066-Join-a-learning-program?', 'https://www.coursera.support/s/article/115001621606-Leave-your-organization-s-learning-program?', 'https://www.coursera.support/s/article/115003774946-Support-for-Coursera-Learning-Programs?', 'https://www.coursera.support/s/article/learner-000002219-Learning-paths-for-enterprise-learners?', 'https://www.coursera.support/s/article/learner-000001971-About-SkillSets-and-LevelSets?', 'https://www.coursera.support/s/article/360049707052-Coursera-for-Campus-Basic-Plan-and-Student-Plan-FAQ?', 'https://www.coursera.support/s/article/360049920972-Coursera-for-Campus-Basic-Plan-and-Student-Plan-Learner-Guide?', 'https://www.coursera.support/s/article/learner-000001807-Coursera-for-Students-FAQs?', 'https://www.coursera.support/s/article/learner-000001660-courseras-response-to-the-humanitarian-crisis-in-ukraine?', 'https://www.coursera.support/s/article/000001666-Coursera-for-Ukraine-Initiative?', 'https://www.coursera.support/s/article/115004712226-Professional-Certificates?', 'https://www.coursera.support/s/article/4408323183245-Google-Professional-Certificates-on-Coursera-Enterprise-Learner-FAQ?', 'https://www.coursera.support/s/article/4408311668749-Google-Professional-Certificates-on-Coursera-Enterprise-Learner-Guide?']\n"
     ]
    }
   ],
   "source": [
    "# with open('support_links.txt', 'r') as file:\n",
    "#     recheck = file.read().splitlines()\n",
    "\n",
    "# recheck"
   ]
  },
  {
   "cell_type": "code",
   "execution_count": null,
   "metadata": {},
   "outputs": [],
   "source": []
  }
 ],
 "metadata": {
  "kernelspec": {
   "display_name": "base",
   "language": "python",
   "name": "python3"
  },
  "language_info": {
   "codemirror_mode": {
    "name": "ipython",
    "version": 3
   },
   "file_extension": ".py",
   "mimetype": "text/x-python",
   "name": "python",
   "nbconvert_exporter": "python",
   "pygments_lexer": "ipython3",
   "version": "3.11.9"
  }
 },
 "nbformat": 4,
 "nbformat_minor": 2
}
